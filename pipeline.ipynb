{
  "nbformat": 4,
  "nbformat_minor": 0,
  "metadata": {
    "colab": {
      "provenance": [],
      "toc_visible": true
    },
    "kernelspec": {
      "name": "python3",
      "display_name": "Python 3"
    },
    "language_info": {
      "name": "python"
    }
  },
  "cells": [
    {
      "cell_type": "markdown",
      "source": [
        "# New Section"
      ],
      "metadata": {
        "id": "ICvaGGK65j1Q"
      }
    },
    {
      "cell_type": "code",
      "source": [
        "import pandas as pd\n",
        "from sklearn.compose import ColumnTransformer\n",
        "from sklearn.impute import SimpleImputer\n",
        "from sklearn.preprocessing import OneHotEncoder, StandardScaler\n",
        "from sklearn.pipeline import Pipeline"
      ],
      "metadata": {
        "id": "lD52OqRc5kWy"
      },
      "execution_count": 12,
      "outputs": []
    },
    {
      "cell_type": "code",
      "source": [
        "def pipeline():\n",
        "    num = ['vote_average','popularity','vote_count']\n",
        "    categorical= ['title']\n",
        "    ordinal= ['overview','video','release_date']\n",
        "\n",
        "    preprocessor = ColumnTransformer(transformers=[\n",
        "        ('num', pipeline(steps=[\n",
        "            ('imputer', simpleimputer(strategy='mean')),\n",
        "        ]), num),\n",
        "        ('cat', pipeline(steps=[\n",
        "            ('imputer', simpleimputer(strategy='constant', fill_value='missing')),\n",
        "            ('encoder', OneHotencoder(handle_unknown='ignore'))\n",
        "        ]), categorical),\n",
        "        ('ord', pipeline(steps=[\n",
        "            ('imputer', simpleimputer(strategy='constant', fill_value='missing')),\n",
        "            ('encoder', OneHotencoder(handle_unknown='ignore'))\n",
        "        ]), ordinal)\n",
        "    ])\n",
        "\n",
        "    return preprocessor"
      ],
      "metadata": {
        "id": "vK5r4uhT6zkh"
      },
      "execution_count": 25,
      "outputs": []
    }
  ]
}